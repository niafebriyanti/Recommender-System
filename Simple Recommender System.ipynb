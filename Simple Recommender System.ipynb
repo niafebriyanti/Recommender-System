{
  "nbformat": 4,
  "nbformat_minor": 0,
  "metadata": {
    "colab": {
      "name": "Nia Febriyanti - Practice Case - Python.ipynb",
      "provenance": [],
      "collapsed_sections": [],
      "include_colab_link": true
    },
    "kernelspec": {
      "name": "python3",
      "display_name": "Python 3"
    }
  },
  "cells": [
    {
      "cell_type": "markdown",
      "metadata": {
        "id": "view-in-github",
        "colab_type": "text"
      },
      "source": [
        "<a href=\"https://colab.research.google.com/github/niafebriyanti/Recommender-System/blob/main/Simple%20Recommender%20System.ipynb\" target=\"_parent\"><img src=\"https://colab.research.google.com/assets/colab-badge.svg\" alt=\"Open In Colab\"/></a>"
      ]
    },
    {
      "cell_type": "markdown",
      "metadata": {
        "id": "n1xgnLfw2OPe"
      },
      "source": [
        "# Nia Febriyanti\n",
        "## IYKRA Data Fellowship Batch 5\n",
        "\n",
        "###Practice Case Python - Recommander System \n"
      ]
    },
    {
      "cell_type": "markdown",
      "metadata": {
        "id": "FySGZxAD2jRu"
      },
      "source": [
        "##Table of Content\n",
        "\n",
        "\n",
        "1.   Functional Programming\n",
        "2.   Object-oriented Programming (OOP)\n",
        "\n"
      ]
    },
    {
      "cell_type": "markdown",
      "metadata": {
        "id": "3oWBbYjNHlu7"
      },
      "source": [
        "Berikut ini adalah contoh data pengguna aplikasi streaming musik. Buatlah sebuah system rekomendasi sederhana menggunakan data berikut ini:\r\n",
        "\r\n",
        "\r\n",
        "> **Ada penambahan user baru yakni: Angga dan Solihah**"
      ]
    },
    {
      "cell_type": "markdown",
      "metadata": {
        "id": "f8GawG31lRzf"
      },
      "source": [
        "| |Cherrybelle|Kangen Band|Netral|PAS Band|SM*SH|The Rain|Ungu|\r\n",
        "|---|---|---|---|---|---|---|--|\r\n",
        "|Agus|4.0|4.5|2.5||3.5||5.0|\r\n",
        "|Andi||2.0|5.0|4.5||||\r\n",
        "|Angga||||||4.5||\r\n",
        "|Indah||3.5|4.5|5.0|||4.0|\r\n",
        "|Siti|4.0|4.0||1.0|5.0||3.5|\r\n",
        "|Solihah|4.0|4.0||1.0|5.0||3.5|\r\n"
      ]
    },
    {
      "cell_type": "markdown",
      "metadata": {
        "id": "O_MU9oaHH6rm"
      },
      "source": [
        "Gunakanlah metode **Eucledian Distance** yang memiliki formula sebagai berikut:\r\n",
        "\r\n",
        "$d(x,y) = \\sqrt{\\sum \\limits_{k=1} ^{n}(x_{k} - y_{k})^{2}}$"
      ]
    },
    {
      "cell_type": "markdown",
      "metadata": {
        "id": "0NzY6fpdXacC"
      },
      "source": [
        "Berikut ini [referensi](https://colab.research.google.com/drive/1QswJVl5bxocK-ZL56_GYnQ0YOYjlpAj3?authuser=2#scrollTo=6molI_MzH4iX) untuk tugas di atas.\r\n",
        "\r\n",
        "> **`Hint:`**\r\n",
        "\r\n",
        "> **`Ada beberapa bagian dalam tugas di atas yang belum dipraktekkan di referensi. Tapi santai, google selalu siap membantumu di saat kesulitan dan error datang.`**\r\n",
        "\r\n",
        "> **`Jika ada dua orang atau lebih memiliki jarak yang yang sama ke user tertentu pilih yang pertama muncul. Misal hasil pengukuran distancenya sebagai berikut: [(1.0, 'Sholih'),(1.0, 'Amad'),(3.0, 'Udin')] maka yang dipilih adalah 'Sholih'.`**\r\n",
        "\r\n",
        "\r\n",
        "> **`Distance hanya terbentuk jika kedua user memeberi rating pada musisi yang sama. Jika userA tidak memiliki pasangan user lain yang memberikan rating pada musisi yang sama maka userA tersebut tidak memiliki distance ke siapapun.`**\r\n",
        "\r\n",
        "> **`Tidak masalah jika dalam rekomendasi menghasilkan list kosong karena jarak terdekat telah memberi rating ke musisi yang sama.`**\r\n",
        "\r\n",
        "> **`Tidak masalah jika dalam rekomendasi menghasilkan list kosong karena tidak memiliki distance ke siapapun.`**\r\n"
      ]
    },
    {
      "cell_type": "markdown",
      "metadata": {
        "id": "D6NzPd5Xd6iE"
      },
      "source": [
        "Implementasikan solusi dalam dua paradigma pemrograman, ***functional programming*** dan ***object oriented programming***."
      ]
    },
    {
      "cell_type": "markdown",
      "metadata": {
        "id": "-dawSd7AxFJw"
      },
      "source": [
        "> **Import math library**"
      ]
    },
    {
      "cell_type": "code",
      "metadata": {
        "id": "664SgP1IyThM"
      },
      "source": [
        "import math"
      ],
      "execution_count": null,
      "outputs": []
    },
    {
      "cell_type": "markdown",
      "metadata": {
        "id": "3zw1LNE6xQdD"
      },
      "source": [
        ">**Input user data**"
      ]
    },
    {
      "cell_type": "code",
      "metadata": {
        "id": "oR2BjZi5v8Em"
      },
      "source": [
        "users = {\"Agus\":{\"Cherrybelle\": 4.0,\n",
        "                 \"Kangen Band\": 4.5,\n",
        "                 \"Netral\": 2.5,\n",
        "                 \"SM*SH\": 3.5,\n",
        "                 \"Ungu\": 5.0},\n",
        "         \"Andi\":{\"Kangen Band\": 2.0,\n",
        "                 \"Netral\": 5.0,\n",
        "                 \"PAS Band\": 4.5},\n",
        "         \"Angga\":{\"The Rain\": 4.5},\n",
        "         \"Indah\":{\"Kangen Band\": 3.5,\n",
        "                  \"Netral\": 4.5,\n",
        "                  \"PAS Band\": 5.0,\n",
        "                  \"Ungu\":4.0},\n",
        "         \"Siti\":{\"Cherrybelle\": 4.0,\n",
        "                 \"Kangen Band\": 4.0,\n",
        "                 \"PAS Band\": 1.0,\n",
        "                 \"SM*SH\": 5.0,\n",
        "                 \"Ungu\": 3.5},\n",
        "         \"Solihah\":{\"Cherrybelle\": 4.0,\n",
        "                    \"Kangen Band\": 4.0,\n",
        "                    \"PAS Band\": 1.0,\n",
        "                    \"SM*SH\": 5.0,\n",
        "                    \"Ungu\": 3.5}}"
      ],
      "execution_count": null,
      "outputs": []
    },
    {
      "cell_type": "markdown",
      "metadata": {
        "id": "fyfBRCvCwiF2"
      },
      "source": [
        "#1. Functional Programming\n",
        "\n",
        "\n",
        "\n",
        "---\n",
        "\n",
        "\n",
        "\n",
        "\n"
      ]
    },
    {
      "cell_type": "markdown",
      "metadata": {
        "id": "Wv3EKZKkwJiL"
      },
      "source": [
        ">**Calculate the distance from one user to another using Euclidean distance formula**"
      ]
    },
    {
      "cell_type": "code",
      "metadata": {
        "id": "pTymr3onydpG"
      },
      "source": [
        "def euclidean(rating1, rating2):\n",
        "  distance = 0\n",
        "  key_same = False\n",
        "  for key in rating1.keys():\n",
        "    if key in rating2.keys():\n",
        "      key_same = True\n",
        "      distance += (rating1[key] - rating2[key])**2\n",
        "  distance = math.sqrt(distance)\n",
        "  if key_same == True:\n",
        "    return distance"
      ],
      "execution_count": null,
      "outputs": []
    },
    {
      "cell_type": "code",
      "metadata": {
        "colab": {
          "base_uri": "https://localhost:8080/"
        },
        "id": "bGfOp5dqzam9",
        "outputId": "612a5e79-99c6-49d9-efa8-2bcff5afed6a"
      },
      "source": [
        "euclidean(users[\"Agus\"],users[\"Andi\"])"
      ],
      "execution_count": null,
      "outputs": [
        {
          "output_type": "execute_result",
          "data": {
            "text/plain": [
              "3.5355339059327378"
            ]
          },
          "metadata": {
            "tags": []
          },
          "execution_count": 4
        }
      ]
    },
    {
      "cell_type": "markdown",
      "metadata": {
        "id": "_HnbcZHIxj6u"
      },
      "source": [
        "*italicized text*> **Search for the nearest neighbor**"
      ]
    },
    {
      "cell_type": "code",
      "metadata": {
        "id": "dkA5lpZ3zjqg"
      },
      "source": [
        "def nearestNeighbor(username, data):\n",
        "  distances = []\n",
        "  for user in data:\n",
        "    if user != username:\n",
        "      distance = euclidean(data[username], data[user])\n",
        "      if distance != None:\n",
        "          distances.append((distance, user))\n",
        "  distances.sort()\n",
        "  return distances"
      ],
      "execution_count": null,
      "outputs": []
    },
    {
      "cell_type": "code",
      "metadata": {
        "colab": {
          "base_uri": "https://localhost:8080/"
        },
        "id": "Lz--36QdznnK",
        "outputId": "affcfb26-2f57-4542-8441-13c22f6feba0"
      },
      "source": [
        "nearestNeighbor(\"Agus\", users)"
      ],
      "execution_count": null,
      "outputs": [
        {
          "output_type": "execute_result",
          "data": {
            "text/plain": [
              "[(2.179449471770337, 'Siti'),\n",
              " (2.179449471770337, 'Solihah'),\n",
              " (2.449489742783178, 'Indah'),\n",
              " (3.5355339059327378, 'Andi')]"
            ]
          },
          "metadata": {
            "tags": []
          },
          "execution_count": 6
        }
      ]
    },
    {
      "cell_type": "code",
      "metadata": {
        "colab": {
          "base_uri": "https://localhost:8080/",
          "height": 35
        },
        "id": "igZO5XrwzuJ7",
        "outputId": "22332f5d-290b-46dc-9c65-b185ec8ef798"
      },
      "source": [
        "nearestNeighbor(\"Agus\", users)[0][1]"
      ],
      "execution_count": null,
      "outputs": [
        {
          "output_type": "execute_result",
          "data": {
            "application/vnd.google.colaboratory.intrinsic+json": {
              "type": "string"
            },
            "text/plain": [
              "'Siti'"
            ]
          },
          "metadata": {
            "tags": []
          },
          "execution_count": 7
        }
      ]
    },
    {
      "cell_type": "markdown",
      "metadata": {
        "id": "shS675kFyR5O"
      },
      "source": [
        "> **Recommendation function**"
      ]
    },
    {
      "cell_type": "code",
      "metadata": {
        "id": "MVmVYnEo0uch"
      },
      "source": [
        "def recommend(username, data):\n",
        "  recommendations = []\n",
        "  try:\n",
        "    nearest = nearestNeighbor(username, data)[0][1]\n",
        "    nearestRatings = data[nearest]\n",
        "    userRatings = data[username]\n",
        "    for artist in nearestRatings:\n",
        "      if artist not in userRatings:\n",
        "        recommendations.append((nearestRatings[artist], artist))\n",
        "    recommendations.sort(reverse=True)\n",
        "    if not recommendations:\n",
        "      return 'No recommendation for ' + username\n",
        "    else:\n",
        "      return recommendations\n",
        "\n",
        "  except:\n",
        "    return 'No recommendation for ' + username"
      ],
      "execution_count": null,
      "outputs": []
    },
    {
      "cell_type": "markdown",
      "metadata": {
        "id": "mht9Po544a1x"
      },
      "source": [
        "Notes: Angga has only one music rating and no one choose the same artist, that's why he has no distance with anyone."
      ]
    },
    {
      "cell_type": "markdown",
      "metadata": {
        "id": "RUvWP-Gczoqm"
      },
      "source": [
        "> ***Music recomendation for user***"
      ]
    },
    {
      "cell_type": "code",
      "metadata": {
        "colab": {
          "base_uri": "https://localhost:8080/",
          "height": 35
        },
        "id": "WDbcOc8000Ku",
        "outputId": "41870e03-948c-45c1-f777-b140218aae95"
      },
      "source": [
        "recommend(\"Angga\", users)"
      ],
      "execution_count": null,
      "outputs": [
        {
          "output_type": "execute_result",
          "data": {
            "application/vnd.google.colaboratory.intrinsic+json": {
              "type": "string"
            },
            "text/plain": [
              "'No recommendation for Angga'"
            ]
          },
          "metadata": {
            "tags": []
          },
          "execution_count": 9
        }
      ]
    },
    {
      "cell_type": "markdown",
      "metadata": {
        "id": "4S7nTd1h1NG7"
      },
      "source": [
        "# 2. Object-oriented Programming (OOP)\n",
        "\n",
        "---\n",
        "\n",
        "\n"
      ]
    },
    {
      "cell_type": "markdown",
      "metadata": {
        "id": "zQeX3sw00nlT"
      },
      "source": [
        ">**Recommendation function with OOP**"
      ]
    },
    {
      "cell_type": "code",
      "metadata": {
        "id": "ivQd3PJI1U7d"
      },
      "source": [
        "class recommender:\n",
        "  def __init__(self, data):\n",
        "    self.data = data\n",
        "\n",
        "  import math\n",
        "\n",
        "  def euclidean(self, username1, username2):\n",
        "    rating1 = self.data[username1]\n",
        "    rating2 = self.data[username2]\n",
        "    distance = 0.0\n",
        "    key_same = False\n",
        "    for key in rating1.keys():\n",
        "      if key in rating2.keys():\n",
        "        key_same = True\n",
        "        distance += (rating1[key] - rating2[key])**2\n",
        "    distance = math.sqrt(distance)\n",
        "    if key_same == True:\n",
        "      return distance\n",
        "\n",
        "  def nearestNeighbor(self, username):\n",
        "    distances = []\n",
        "    for user in self.data:\n",
        "      if user != username:\n",
        "        distance = self.euclidean(username, user)\n",
        "        if distance != None:\n",
        "            distances.append((distance, user))\n",
        "    distances.sort()\n",
        "    return distances\n",
        "\n",
        "  def recommend(self, username):\n",
        "    recommendations = []\n",
        "    try:\n",
        "        nearest = self.nearestNeighbor(username)[0][1]\n",
        "        nearestRatings = self.data[nearest]\n",
        "        userRatings = self.data[username]\n",
        "        for artist in nearestRatings:\n",
        "          if artist not in userRatings:\n",
        "            recommendations.append((nearestRatings[artist], artist))\n",
        "        recommendations.sort(reverse=True)\n",
        "        if not recommendations:\n",
        "          return 'No recommendation for ' + username\n",
        "        else:\n",
        "          return recommendations\n",
        "\n",
        "    except:\n",
        "      return 'No recommendation for ' + username"
      ],
      "execution_count": null,
      "outputs": []
    },
    {
      "cell_type": "markdown",
      "metadata": {
        "id": "684dfq-20yKw"
      },
      "source": [
        ">***Music recomendation for user***"
      ]
    },
    {
      "cell_type": "code",
      "metadata": {
        "id": "0j9AsKh83ZQV"
      },
      "source": [
        "users_r = recommender(users)"
      ],
      "execution_count": null,
      "outputs": []
    },
    {
      "cell_type": "code",
      "metadata": {
        "colab": {
          "base_uri": "https://localhost:8080/",
          "height": 35
        },
        "id": "B6KBkRnw4HVz",
        "outputId": "469b8147-9e9d-4245-fd69-9c2e672035da"
      },
      "source": [
        "users_r.recommend(\"S\")"
      ],
      "execution_count": null,
      "outputs": [
        {
          "output_type": "execute_result",
          "data": {
            "application/vnd.google.colaboratory.intrinsic+json": {
              "type": "string"
            },
            "text/plain": [
              "'No recommendation for Indah'"
            ]
          },
          "metadata": {
            "tags": []
          },
          "execution_count": 13
        }
      ]
    },
    {
      "cell_type": "code",
      "metadata": {
        "colab": {
          "base_uri": "https://localhost:8080/"
        },
        "id": "RZyyeL2cz6iK",
        "outputId": "c8715a40-edcf-4b2f-8623-9d2083ffb979"
      },
      "source": [
        "users_r.euclidean('Agus','Andi')"
      ],
      "execution_count": null,
      "outputs": [
        {
          "output_type": "execute_result",
          "data": {
            "text/plain": [
              "3.5355339059327378"
            ]
          },
          "metadata": {
            "tags": []
          },
          "execution_count": 14
        }
      ]
    },
    {
      "cell_type": "code",
      "metadata": {
        "colab": {
          "base_uri": "https://localhost:8080/"
        },
        "id": "5CjgCWnQ0DzW",
        "outputId": "8baa344f-4b85-47df-c2a3-eb90989456c2"
      },
      "source": [
        "users_r.nearestNeighbor('Agus')"
      ],
      "execution_count": null,
      "outputs": [
        {
          "output_type": "execute_result",
          "data": {
            "text/plain": [
              "[(2.179449471770337, 'Siti'),\n",
              " (2.179449471770337, 'Solihah'),\n",
              " (2.449489742783178, 'Indah'),\n",
              " (3.5355339059327378, 'Andi')]"
            ]
          },
          "metadata": {
            "tags": []
          },
          "execution_count": 15
        }
      ]
    },
    {
      "cell_type": "code",
      "metadata": {
        "id": "S9EFe8cS0MVO"
      },
      "source": [
        ""
      ],
      "execution_count": null,
      "outputs": []
    }
  ]
}